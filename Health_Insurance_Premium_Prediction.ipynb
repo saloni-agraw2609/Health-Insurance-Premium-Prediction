{
  "cells": [
    {
      "cell_type": "code",
      "execution_count": null,
      "metadata": {
        "id": "6mmPkZuJiTBx"
      },
      "outputs": [],
      "source": [
        "# Importing necessary libraries.\n",
        "import pandas as pd\n",
        "import numpy as np\n",
        "import matplotlib.pyplot as plt\n",
        "import seaborn as sns\n",
        "%matplotlib inline\n",
        "from sklearn.model_selection import train_test_split\n",
        "from sklearn.preprocessing import StandardScaler\n",
        "from sklearn.metrics import mean_squared_error, mean_absolute_error, r2_score\n",
        "from sklearn.tree import DecisionTreeRegressor\n",
        "from sklearn.ensemble import GradientBoostingRegressor\n"
      ]
    },
    {
      "cell_type": "code",
      "execution_count": null,
      "metadata": {
        "id": "2flgPXQzq4PH"
      },
      "outputs": [],
      "source": [
        "# Loading the data\n",
        "insurance = pd.read_csv(\"/content/drive/MyDrive/Colab Notebooks/health insurance premium/insurance.csv.csv\")"
      ]
    },
    {
      "cell_type": "code",
      "execution_count": null,
      "metadata": {
        "colab": {
          "base_uri": "https://localhost:8080/",
          "height": 206
        },
        "id": "6hfBo32hrM7q",
        "outputId": "daeee724-c2e3-4cb8-d8bd-76f66862e73c"
      },
      "outputs": [],
      "source": [
        "# Fetching first five rows.\n",
        "insurance.head()"
      ]
    },
    {
      "cell_type": "code",
      "execution_count": null,
      "metadata": {
        "colab": {
          "base_uri": "https://localhost:8080/"
        },
        "id": "sCbDA2COrOtY",
        "outputId": "fc229ad0-bee4-47df-a56e-a471a136fefb"
      },
      "outputs": [],
      "source": [
        "# Getting information about data.\n",
        "insurance.info()"
      ]
    },
    {
      "cell_type": "code",
      "execution_count": null,
      "metadata": {
        "colab": {
          "base_uri": "https://localhost:8080/",
          "height": 300
        },
        "id": "ES9lYXwWrypN",
        "outputId": "71fbb020-c82e-4c77-8ee5-b5cfb2373281"
      },
      "outputs": [],
      "source": [
        "# Describing data.\n",
        "insurance.describe()"
      ]
    },
    {
      "cell_type": "code",
      "execution_count": null,
      "metadata": {
        "colab": {
          "base_uri": "https://localhost:8080/"
        },
        "id": "BMq3erHnNMoY",
        "outputId": "806f8a8f-03d0-4983-8420-ac3e8a117774"
      },
      "outputs": [],
      "source": [
        "# Fetching column names.\n",
        "insurance.columns"
      ]
    },
    {
      "cell_type": "markdown",
      "metadata": {
        "id": "vWSQSIAhXYm7"
      },
      "source": [
        "# ***Data Preprocessing***"
      ]
    },
    {
      "cell_type": "code",
      "execution_count": null,
      "metadata": {
        "colab": {
          "base_uri": "https://localhost:8080/"
        },
        "id": "gor3UMndrigg",
        "outputId": "73116c50-a0fb-4465-d6f8-9726fcc1f3e4"
      },
      "outputs": [],
      "source": [
        "# Handling Missing values\n",
        "insurance.isnull().sum()"
      ]
    },
    {
      "cell_type": "code",
      "execution_count": null,
      "metadata": {
        "colab": {
          "base_uri": "https://localhost:8080/"
        },
        "id": "BWU3M-o0K_gZ",
        "outputId": "cea5a9ff-26d0-433c-8568-45695f4a4b6f"
      },
      "outputs": [],
      "source": [
        "# Handling duplicated value.\n",
        "insurance.duplicated().sum()"
      ]
    },
    {
      "cell_type": "code",
      "execution_count": null,
      "metadata": {
        "id": "6adwJSnpLG-9"
      },
      "outputs": [],
      "source": [
        "# removing duplicates\n",
        "\n",
        "insurance.drop_duplicates(inplace=True)\n"
      ]
    },
    {
      "cell_type": "code",
      "execution_count": null,
      "metadata": {
        "colab": {
          "base_uri": "https://localhost:8080/"
        },
        "id": "gjASYiAnr1l1",
        "outputId": "2212d606-d084-465a-d230-677d027f7f62"
      },
      "outputs": [],
      "source": [
        "# calculating average age, bmi, children, expenses group by region\n",
        "\n",
        "grouped_data = insurance.groupby('region')[['age', 'bmi', 'children', 'charges']].mean()\n",
        "\n",
        "print(grouped_data)\n"
      ]
    },
    {
      "cell_type": "code",
      "execution_count": null,
      "metadata": {
        "colab": {
          "base_uri": "https://localhost:8080/"
        },
        "id": "Lc0MdG7UtoOe",
        "outputId": "9d853248-ac9d-4870-ad4a-0524bda8c2ba"
      },
      "outputs": [],
      "source": [
        "# Checking unique sex.\n",
        "insurance['sex'].unique()"
      ]
    },
    {
      "cell_type": "code",
      "execution_count": null,
      "metadata": {
        "colab": {
          "base_uri": "https://localhost:8080/"
        },
        "id": "qGkteOCSuaPA",
        "outputId": "d7c3d99d-4512-41ac-d4e9-bbfbf75469e2"
      },
      "outputs": [],
      "source": [
        "# Checking unique smoker value.\n",
        "insurance['smoker'].unique()"
      ]
    },
    {
      "cell_type": "code",
      "execution_count": null,
      "metadata": {
        "colab": {
          "base_uri": "https://localhost:8080/"
        },
        "id": "Q_M8fOnGunJs",
        "outputId": "760b2342-7975-448b-ac18-35896b26dfa7"
      },
      "outputs": [],
      "source": [
        "# Checking unique region.\n",
        "insurance['region'].unique()"
      ]
    },
    {
      "cell_type": "code",
      "execution_count": null,
      "metadata": {
        "colab": {
          "base_uri": "https://localhost:8080/",
          "height": 206
        },
        "id": "ixWqAdCNwQTa",
        "outputId": "00a49329-a60c-4206-d51c-4c2e5a52fe00"
      },
      "outputs": [],
      "source": [
        "insurance.head()"
      ]
    },
    {
      "cell_type": "markdown",
      "metadata": {
        "id": "o6cY-rrJx8MG"
      },
      "source": [
        "# ***Exploratory Data Analysis (EDA):***"
      ]
    },
    {
      "cell_type": "code",
      "execution_count": null,
      "metadata": {
        "colab": {
          "base_uri": "https://localhost:8080/",
          "height": 624
        },
        "id": "kCnhbhaAO-nb",
        "outputId": "99ab513a-48dc-4305-caac-2d98db76b0ae"
      },
      "outputs": [],
      "source": [
        "# Jointplot plot of expenses vs. BMI .\n",
        "sns.jointplot(x='bmi', y='charges', data=insurance, kind='kde', fill = True)"
      ]
    },
    {
      "cell_type": "code",
      "execution_count": null,
      "metadata": {
        "colab": {
          "base_uri": "https://localhost:8080/",
          "height": 428
        },
        "id": "_756mKz-PqET",
        "outputId": "4d619b45-124d-4f50-a147-8315d99351e7"
      },
      "outputs": [],
      "source": [
        "# Average expense region\n",
        "region=insurance[['region','charges']].groupby('region').agg('mean')['charges'].index\n",
        "region_expense=insurance[['region','charges']].groupby('region').agg('mean')['charges'].values\n",
        "explode = [0.01,0.01,0.01,0.01]\n",
        "# define Seaborn color palette to use\n",
        "palette_color = sns.color_palette('pastel')\n",
        "\n",
        "# plotting data on chart\n",
        "plt.pie(region_expense, labels=region, colors=palette_color,\n",
        "        explode=explode, autopct='%.0f%%')\n",
        "\n",
        "# displaying chart\n",
        "plt.title(\"Avg expense region \")\n",
        "plt.show()"
      ]
    },
    {
      "cell_type": "code",
      "execution_count": null,
      "metadata": {
        "colab": {
          "base_uri": "https://localhost:8080/",
          "height": 564
        },
        "id": "HtUW1qdVPTEW",
        "outputId": "e7f71949-3adb-4231-8329-5369487ddff4"
      },
      "outputs": [],
      "source": [
        "# Stripplot of expenses by number of children.\n",
        "plt.figure(figsize=(10, 6))\n",
        "sns.stripplot(x='children', y='charges', hue = 'children', palette = 'magma', data=insurance)\n",
        "plt.title('Medical Expenses by Number of Children')\n",
        "plt.show()"
      ]
    },
    {
      "cell_type": "code",
      "execution_count": null,
      "metadata": {
        "colab": {
          "base_uri": "https://localhost:8080/",
          "height": 472
        },
        "id": "y1t_TTREbiX9",
        "outputId": "cb07f13b-16a1-4261-e628-b46f24e4cace"
      },
      "outputs": [],
      "source": [
        "# Expenses by age.\n",
        "sns.scatterplot(x= 'age', y = 'charges',hue = 'smoker', data = insurance)\n",
        "plt.title(\"Expenses by age(smoker-wise)\")\n",
        "plt.show()"
      ]
    },
    {
      "cell_type": "code",
      "execution_count": null,
      "metadata": {
        "colab": {
          "base_uri": "https://localhost:8080/",
          "height": 428
        },
        "id": "KDOiLNQwOD_C",
        "outputId": "b3da3b67-94c1-44b0-c09c-ed8f7e6533d6"
      },
      "outputs": [],
      "source": [
        "# Average expense of smoker\n",
        "smoker=insurance[['smoker','charges']].groupby('smoker').agg('mean')['charges'].index\n",
        "smoker_expense=insurance[['smoker','charges']].groupby('smoker').agg('mean')['charges'].values\n",
        "explode = [0.01,0.05]\n",
        "# define Seaborn color palette to use\n",
        "palette_color = sns.color_palette('pastel')\n",
        "\n",
        "# plotting data on chart\n",
        "plt.pie(smoker_expense, labels=smoker, colors=palette_color,\n",
        "        explode=explode, autopct='%.0f%%')\n",
        "\n",
        "# displaying chart\n",
        "plt.title(\"Avg expense of smoker \")\n",
        "plt.show()"
      ]
    },
    {
      "cell_type": "code",
      "execution_count": null,
      "metadata": {
        "colab": {
          "base_uri": "https://localhost:8080/",
          "height": 466
        },
        "id": "vOMXMUMfgY7Q",
        "outputId": "c3043716-5c79-4571-f296-ab1fa15287b8"
      },
      "outputs": [],
      "source": [
        "# Checking distribution of expenses\n",
        "sns.histplot(data= insurance,x='charges',kde=True,hue='smoker')\n"
      ]
    },
    {
      "cell_type": "code",
      "execution_count": null,
      "metadata": {
        "colab": {
          "base_uri": "https://localhost:8080/",
          "height": 564
        },
        "id": "zZIYYLuSPDK3",
        "outputId": "ef32f018-af90-4277-fb6b-670a07dfc80d"
      },
      "outputs": [],
      "source": [
        "# Swarmplot of expenses by sex.\n",
        "plt.figure(figsize=(10, 6))\n",
        "sns.swarmplot(x='sex', y='charges', hue = 'sex', palette = 'magma', data=insurance)\n",
        "plt.title('Medical Expenses by sex')\n",
        "plt.show()"
      ]
    },
    {
      "cell_type": "code",
      "execution_count": null,
      "metadata": {
        "colab": {
          "base_uri": "https://localhost:8080/",
          "height": 206
        },
        "id": "0TsXJIBOx-su",
        "outputId": "dd2c9c29-8569-4a2a-c64e-c292ebe31554"
      },
      "outputs": [],
      "source": [
        "# Performing one hot encoding.\n",
        "insurance = pd.get_dummies(insurance, drop_first=False)\n",
        "insurance.head()"
      ]
    },
    {
      "cell_type": "markdown",
      "metadata": {
        "id": "NnckpgCLYqYy"
      },
      "source": [
        "# ***Correlation Analysis:***"
      ]
    },
    {
      "cell_type": "code",
      "execution_count": null,
      "metadata": {
        "colab": {
          "base_uri": "https://localhost:8080/",
          "height": 653
        },
        "id": "zyHSU8R3P2J-",
        "outputId": "c7845a6a-e43c-4109-eec7-75f4fc7dbbc8"
      },
      "outputs": [],
      "source": [
        "# Correlation matrix\n",
        "plt.figure(figsize=(10, 6))\n",
        "sns.heatmap(insurance.corr(), annot=True, cmap='viridis', linewidths=0.5)\n",
        "plt.title('Correlation Matrix')\n",
        "plt.show()"
      ]
    },
    {
      "cell_type": "markdown",
      "metadata": {
        "id": "CwufdM_GXelw"
      },
      "source": [
        "***Input and output variables***"
      ]
    },
    {
      "cell_type": "code",
      "execution_count": null,
      "metadata": {
        "id": "RCZIwY3A38qy"
      },
      "outputs": [],
      "source": [
        "# Dividing the dataset into input and output variables.\n",
        "X = insurance.drop('charges', axis = 1)\n",
        "y = insurance['charges']"
      ]
    },
    {
      "cell_type": "markdown",
      "metadata": {
        "id": "1K18J0L_XjP8"
      },
      "source": [
        "***Splitting data***"
      ]
    },
    {
      "cell_type": "code",
      "execution_count": null,
      "metadata": {
        "id": "kqCm8Su54e9W"
      },
      "outputs": [],
      "source": [
        "# Dividing the data into train-test-split.\n",
        "X_train, X_test, y_train, y_test = train_test_split(X, y, test_size = 0.3, random_state = 42)"
      ]
    },
    {
      "cell_type": "markdown",
      "metadata": {
        "id": "CYS8OVvB2xTD"
      },
      "source": [
        "***Standard Scaling***"
      ]
    },
    {
      "cell_type": "code",
      "execution_count": null,
      "metadata": {
        "id": "XmbO-Jh_CQm4"
      },
      "outputs": [],
      "source": [
        "# Performing Standard Scaling to put all numerical features on a similar scale.\n",
        "scaler = StandardScaler()\n",
        "X_train = scaler.fit_transform(X_train)\n",
        "X_test = scaler.fit_transform(X_test)"
      ]
    },
    {
      "cell_type": "markdown",
      "metadata": {
        "id": "IodG7V5RDu6D"
      },
      "source": [
        "# ***Decision tree regressor***"
      ]
    },
    {
      "cell_type": "code",
      "execution_count": null,
      "metadata": {
        "colab": {
          "base_uri": "https://localhost:8080/",
          "height": 74
        },
        "id": "568CioAEGJlt",
        "outputId": "312b7e58-7c20-48c7-86ec-7e6ef7a5eb05"
      },
      "outputs": [],
      "source": [
        "# Creating a DecisionTreeRegressor Model.\n",
        "\n",
        "dt = DecisionTreeRegressor(max_depth=5, min_samples_leaf=10)\n",
        "dt.fit(X_train, y_train)"
      ]
    },
    {
      "cell_type": "markdown",
      "metadata": {
        "id": "OEjFQcUnS_Oh"
      },
      "source": [
        "### Training Accuracy"
      ]
    },
    {
      "cell_type": "code",
      "execution_count": null,
      "metadata": {
        "colab": {
          "base_uri": "https://localhost:8080/"
        },
        "id": "gPpStSx6S7Ia",
        "outputId": "a2fd4f17-0415-4387-85b2-cb6b52eb0e82"
      },
      "outputs": [],
      "source": [
        "#Predicting the test data\n",
        "dt_train_predictions = dt.predict(X_train)\n",
        "# Evaluating the model.\n",
        "print(\"MAE for train set:\", mean_absolute_error(y_train, dt_train_predictions))\n",
        "print(\"MSE for train set:\", mean_squared_error(y_train, dt_train_predictions))\n",
        "print(\"RMSE for train set:\", np.sqrt(mean_squared_error(y_train, dt_train_predictions)))\n",
        "print(\"R2 Score for train set:\", r2_score(y_train, dt_train_predictions))"
      ]
    },
    {
      "cell_type": "markdown",
      "metadata": {
        "id": "7LS_uLmvTPJS"
      },
      "source": [
        "### Testing Accuracy"
      ]
    },
    {
      "cell_type": "code",
      "execution_count": null,
      "metadata": {
        "colab": {
          "base_uri": "https://localhost:8080/"
        },
        "id": "m7rw29faTaDk",
        "outputId": "699bb7c9-dfbd-4bf6-d821-dffbf5293b9d"
      },
      "outputs": [],
      "source": [
        "#Predicting the test data\n",
        "dt_test_predictions = dt.predict(X_test)\n",
        "# Evaluating the model.\n",
        "print(\"MAE for test set:\", mean_absolute_error(y_test, dt_test_predictions))\n",
        "print(\"MSE for test set:\", mean_squared_error(y_test, dt_test_predictions))\n",
        "print(\"RMSE for test set:\", np.sqrt(mean_squared_error(y_test, dt_test_predictions)))\n",
        "print(\"R2 Score for test set:\", r2_score(y_test, dt_test_predictions))"
      ]
    },
    {
      "cell_type": "markdown",
      "metadata": {
        "id": "JqCXWyl-rL_v"
      },
      "source": [
        "# ***Hyperparameter tuning***"
      ]
    },
    {
      "cell_type": "markdown",
      "metadata": {
        "id": "AYcH2eAxzDJZ"
      },
      "source": [
        "**Performing bayesian-optimization Cross Validation on Decision tree regressor**"
      ]
    },
    {
      "cell_type": "code",
      "execution_count": null,
      "metadata": {
        "colab": {
          "base_uri": "https://localhost:8080/"
        },
        "id": "iT23NUKyrQ_o",
        "outputId": "f3f04be1-3297-47d8-c4aa-8f10615304ac"
      },
      "outputs": [],
      "source": [
        "# Installing bayesian-optimization\n",
        "!pip install bayesian-optimization scikit-learn\n"
      ]
    },
    {
      "cell_type": "code",
      "execution_count": null,
      "metadata": {
        "id": "UvtuQtnSPcve"
      },
      "outputs": [],
      "source": [
        "# Importing necessary libraries for hyperparameter tuning\n",
        "from sklearn.model_selection import cross_val_score\n",
        "from bayes_opt import BayesianOptimization"
      ]
    },
    {
      "cell_type": "code",
      "execution_count": null,
      "metadata": {
        "id": "rTEOeVdarqyn"
      },
      "outputs": [],
      "source": [
        "# ***Hyperparameter tuning***\n",
        "# Defining the objective function.\n",
        "def dt_cv_r2(max_depth, min_samples_split, min_samples_leaf):\n",
        "    estimator = DecisionTreeRegressor(\n",
        "        max_depth=int(max_depth),\n",
        "        min_samples_split=int(min_samples_split),\n",
        "        min_samples_leaf=int(min_samples_leaf),\n",
        "        random_state=42\n",
        "    )\n",
        "    # Cross-validated R² score\n",
        "    cval = cross_val_score(estimator, X, y, scoring='r2', cv=5, error_score='raise')\n",
        "    return cval.mean()\n"
      ]
    },
    {
      "cell_type": "code",
      "execution_count": null,
      "metadata": {
        "id": "o-VqCDn9rrsJ"
      },
      "outputs": [],
      "source": [
        "# Bounds for hyperparameters\n",
        "pbounds = {\n",
        "    'max_depth': (1, 20),\n",
        "    'min_samples_split': (2, 20),\n",
        "    'min_samples_leaf': (1, 20)\n",
        "}"
      ]
    },
    {
      "cell_type": "code",
      "execution_count": null,
      "metadata": {
        "colab": {
          "base_uri": "https://localhost:8080/"
        },
        "id": "DSs76p2Vrxoy",
        "outputId": "3f334bf5-7e94-4fa3-e422-17c3598064ff"
      },
      "outputs": [],
      "source": [
        "# ***Bayesian Optimization***\n",
        "optimizer = BayesianOptimization(\n",
        "    f=dt_cv_r2,\n",
        "    pbounds=pbounds,\n",
        "    random_state=42,\n",
        "    verbose=2\n",
        ")\n",
        "optimizer.maximize(\n",
        "    init_points=10,  # Number of random initial points\n",
        "    n_iter=50       # Number of iterations to run\n",
        ")\n"
      ]
    },
    {
      "cell_type": "code",
      "execution_count": null,
      "metadata": {
        "colab": {
          "base_uri": "https://localhost:8080/"
        },
        "id": "7vvn5PJOr0Tt",
        "outputId": "be4ae765-a474-4b0e-e534-ab5b0574e8a7"
      },
      "outputs": [],
      "source": [
        "# ***Optimal Parameters***\n",
        "best_params = optimizer.max['params']\n",
        "best_params['max_depth'] = int(best_params['max_depth'])\n",
        "best_params['min_samples_split'] = int(best_params['min_samples_split'])\n",
        "best_params['min_samples_leaf'] = int(best_params['min_samples_leaf'])\n",
        "print(best_params)\n"
      ]
    },
    {
      "cell_type": "markdown",
      "metadata": {
        "id": "ifNLHhpiZrdT"
      },
      "source": [
        "### Training Accuracy"
      ]
    },
    {
      "cell_type": "code",
      "execution_count": null,
      "metadata": {
        "colab": {
          "base_uri": "https://localhost:8080/"
        },
        "id": "Nox2FH0DZwgm",
        "outputId": "568a15b5-a9ac-4bc2-e935-e3ec13e3a311"
      },
      "outputs": [],
      "source": [
        "# check accuracy for train set\n",
        "\n",
        "# Create a new model with the best parameters\n",
        "best_model = DecisionTreeRegressor(**best_params)\n",
        "\n",
        "# Train the model on the training data\n",
        "best_model.fit(X_train, y_train)\n",
        "\n",
        "# Evaluate the model on the training data\n",
        "bayes_opt_dt_train_predictions = best_model.predict(X_train)\n",
        "\n",
        "# Calculate the accuracy metrics\n",
        "mae = mean_absolute_error(y_train, bayes_opt_dt_train_predictions)\n",
        "mse = mean_squared_error(y_train, bayes_opt_dt_train_predictions)\n",
        "rmse = np.sqrt(mse)\n",
        "r2 = r2_score(y_train, bayes_opt_dt_train_predictions)\n",
        "\n",
        "# Print the accuracy metrics\n",
        "print(\"MAE for train set:\", mae)\n",
        "print(\"MSE for train set:\", mse)\n",
        "print(\"RMSE for train set:\", rmse)\n",
        "print(\"R2 for train set:\", r2)"
      ]
    },
    {
      "cell_type": "markdown",
      "metadata": {
        "id": "5heSOzKCZevx"
      },
      "source": [
        "### Testing Accuracy"
      ]
    },
    {
      "cell_type": "code",
      "execution_count": null,
      "metadata": {
        "colab": {
          "base_uri": "https://localhost:8080/"
        },
        "id": "pKZzhUkXGzcU",
        "outputId": "1e0078e2-320f-44de-ec5f-36b6304ea151"
      },
      "outputs": [],
      "source": [
        "# check accuracy for test data\n",
        "\n",
        "# Evaluate the model on the test data\n",
        "bayes_opt_dt_test_predictions = best_model.predict(X_test)\n",
        "\n",
        "# Calculate the accuracy metrics\n",
        "mae = mean_absolute_error(y_test, bayes_opt_dt_test_predictions)\n",
        "mse = mean_squared_error(y_test, bayes_opt_dt_test_predictions)\n",
        "rmse = np.sqrt(mse)\n",
        "r2 = r2_score(y_test, bayes_opt_dt_test_predictions)\n",
        "\n",
        "# Print the accuracy metrics\n",
        "print(\"MAE for test set:\", mae)\n",
        "print(\"MSE for test set:\", mse)\n",
        "print(\"RMSE for test set:\", rmse)\n",
        "print(\"R2 for test set:\", r2)\n"
      ]
    },
    {
      "cell_type": "markdown",
      "metadata": {
        "id": "M8ONX9fBJfJZ"
      },
      "source": [
        "# ***Gradient Boosting regression***"
      ]
    },
    {
      "cell_type": "code",
      "execution_count": null,
      "metadata": {
        "colab": {
          "base_uri": "https://localhost:8080/",
          "height": 74
        },
        "id": "99gUZv-bJ5ow",
        "outputId": "383b276c-7ea9-430c-bfda-052414645446"
      },
      "outputs": [],
      "source": [
        "# Creating a gradient boost regressor model\n",
        "gb = GradientBoostingRegressor(max_depth=2, n_estimators=100)\n",
        "gb.fit(X_train, y_train)"
      ]
    },
    {
      "cell_type": "markdown",
      "metadata": {
        "id": "D9bSjmn2TtM4"
      },
      "source": [
        "### Training Accuracy"
      ]
    },
    {
      "cell_type": "code",
      "execution_count": null,
      "metadata": {
        "colab": {
          "base_uri": "https://localhost:8080/"
        },
        "id": "b25KXnP3TpSJ",
        "outputId": "a2365055-687a-4d55-ca63-7d5e9f75a4cd"
      },
      "outputs": [],
      "source": [
        "#Predicting the train data\n",
        "gb_train_predictions = gb.predict(X_train)\n",
        "\n",
        "# Evaluating the model.\n",
        "print(\"MAE for train set:\", mean_absolute_error(y_train, gb_train_predictions))\n",
        "print(\"MSE for train set:\", mean_squared_error(y_train, gb_train_predictions))\n",
        "print(\"RMSE for train set:\", np.sqrt(mean_squared_error(y_train, gb_train_predictions)))\n",
        "print(\"R2 Score for train set:\", r2_score(y_train, gb_train_predictions))"
      ]
    },
    {
      "cell_type": "markdown",
      "metadata": {
        "id": "o1V5gApWT2ZJ"
      },
      "source": [
        "### Testing Accuracy"
      ]
    },
    {
      "cell_type": "code",
      "execution_count": null,
      "metadata": {
        "colab": {
          "base_uri": "https://localhost:8080/"
        },
        "id": "zmgsvGynT8uZ",
        "outputId": "bf339a3f-4e80-4ee6-c184-af64ab3c9e18"
      },
      "outputs": [],
      "source": [
        "#Predicting the test data\n",
        "gb_test_predictions = gb.predict(X_test)\n",
        "\n",
        "# Evaluating the model.\n",
        "print(\"MAE for test set:\", mean_absolute_error(y_test, gb_test_predictions))\n",
        "print(\"MSE for test set:\", mean_squared_error(y_test, gb_test_predictions))\n",
        "print(\"RMSE for test set:\", np.sqrt(mean_squared_error(y_test, gb_test_predictions)))\n",
        "print(\"R2 Score for test set:\", r2_score(y_test, gb_test_predictions))"
      ]
    },
    {
      "cell_type": "markdown",
      "metadata": {
        "id": "lY_J2KszO2bv"
      },
      "source": [
        "# ***Hyperparameter Tuning***"
      ]
    },
    {
      "cell_type": "markdown",
      "metadata": {
        "id": "qcu2ZifEPCvk"
      },
      "source": [
        "**Performing bayesian-optimization Cross Validation on Gradient Boosting Regressor**"
      ]
    },
    {
      "cell_type": "code",
      "execution_count": null,
      "metadata": {
        "id": "5AA03ksQf0br"
      },
      "outputs": [],
      "source": [
        "# Defining the objective function.\n",
        "def gb_cv_r2(max_depth, n_estimators, learning_rate):\n",
        "    estimator = GradientBoostingRegressor(\n",
        "        max_depth=int(max_depth),\n",
        "        n_estimators=int(n_estimators),\n",
        "        learning_rate=learning_rate,\n",
        "        random_state=42\n",
        "    )\n",
        "    # Cross-validated R² score\n",
        "    cval = cross_val_score(estimator, X, y, scoring='r2', cv=5, error_score='raise')\n",
        "    return cval.mean()"
      ]
    },
    {
      "cell_type": "code",
      "execution_count": null,
      "metadata": {
        "id": "xrq9R6vvf7U_"
      },
      "outputs": [],
      "source": [
        "# Bounds for hyperparameters\n",
        "pbounds = {\n",
        "    'max_depth': (1, 20),\n",
        "    'n_estimators': (10, 100),\n",
        "    'learning_rate': (0.01, 1)\n",
        "}"
      ]
    },
    {
      "cell_type": "code",
      "execution_count": null,
      "metadata": {
        "colab": {
          "base_uri": "https://localhost:8080/"
        },
        "id": "F8uQyRhegI5h",
        "outputId": "069c5a68-ed03-447e-fecc-0581e1916700"
      },
      "outputs": [],
      "source": [
        "# ***Bayesian Optimization***\n",
        "optimizer = BayesianOptimization(\n",
        "    f=gb_cv_r2,\n",
        "    pbounds=pbounds,\n",
        "    random_state=42,\n",
        "    verbose=2\n",
        ")\n",
        "optimizer.maximize(\n",
        "    init_points=10,  # Number of random initial points\n",
        "    n_iter=50       # Number of iterations to run\n",
        ")"
      ]
    },
    {
      "cell_type": "code",
      "execution_count": null,
      "metadata": {
        "colab": {
          "base_uri": "https://localhost:8080/"
        },
        "id": "dDxQPlaQgNbZ",
        "outputId": "6d35ca99-7378-4507-db26-3221034eba1e"
      },
      "outputs": [],
      "source": [
        "# ***Optimal Parameters***\n",
        "best_params = optimizer.max['params']\n",
        "best_params['max_depth'] = int(best_params['max_depth'])\n",
        "best_params['n_estimators'] = int(best_params['n_estimators'])\n",
        "print(best_params)"
      ]
    },
    {
      "cell_type": "markdown",
      "metadata": {
        "id": "8lz-VPsNiBLc"
      },
      "source": [
        "### Training Accuracy"
      ]
    },
    {
      "cell_type": "code",
      "execution_count": null,
      "metadata": {
        "colab": {
          "base_uri": "https://localhost:8080/"
        },
        "id": "3mJZQTyoh8kq",
        "outputId": "9fd9fd56-12f4-4b21-b056-365f646f30a4"
      },
      "outputs": [],
      "source": [
        "# check accuracy on the train data\n",
        "\n",
        "# Create a new model with the best parameters\n",
        "best_model = GradientBoostingRegressor(**best_params)\n",
        "\n",
        "# Train the model on the training data\n",
        "best_model.fit(X_train, y_train)\n",
        "\n",
        "# Evaluate the model on the train data\n",
        "bayes_opt_gb_train_predictions = best_model.predict(X_train)\n",
        "\n",
        "# Calculate the accuracy metrics\n",
        "mae = mean_absolute_error(y_train, bayes_opt_gb_train_predictions)\n",
        "mse = mean_squared_error(y_train, bayes_opt_gb_train_predictions)\n",
        "rmse = np.sqrt(mse)\n",
        "r2 = r2_score(y_train, bayes_opt_gb_train_predictions)\n",
        "\n",
        "# Print the accuracy metrics\n",
        "print(\"MAE for train set:\", mae)\n",
        "print(\"MSE for train set:\", mse)\n",
        "print(\"RMSE for train set:\", rmse)\n",
        "print(\"R2 for train set:\", r2)"
      ]
    },
    {
      "cell_type": "markdown",
      "metadata": {
        "id": "2g-lNXZ-hwI7"
      },
      "source": [
        "### Testing Accuracy"
      ]
    },
    {
      "cell_type": "code",
      "execution_count": null,
      "metadata": {
        "colab": {
          "base_uri": "https://localhost:8080/"
        },
        "id": "yl-RmOM3ilBG",
        "outputId": "38c2469a-d281-4c8a-bf72-a0744a026e22"
      },
      "outputs": [],
      "source": [
        "# check accuracy on the test data\n",
        "\n",
        "# Evaluate the model on the test data\n",
        "bayes_opt_gb_test_predictions = best_model.predict(X_test)\n",
        "\n",
        "# Calculate the accuracy metrics\n",
        "mae = mean_absolute_error(y_test, bayes_opt_gb_test_predictions)\n",
        "mse = mean_squared_error(y_test, bayes_opt_gb_test_predictions)\n",
        "rmse = np.sqrt(mse)\n",
        "r2 = r2_score(y_test, bayes_opt_gb_test_predictions)\n",
        "\n",
        "# Print the accuracy metrics\n",
        "print(\"MAE for test set:\", mae)\n",
        "print(\"MSE for test set:\", mse)\n",
        "print(\"RMSE for test set:\", rmse)\n",
        "print(\"R2 for test set:\", r2)"
      ]
    },
    {
      "cell_type": "markdown",
      "metadata": {
        "id": "uFza17aTLaeb"
      },
      "source": [
        "# ***Cat Boost Regression***"
      ]
    },
    {
      "cell_type": "code",
      "execution_count": null,
      "metadata": {
        "colab": {
          "base_uri": "https://localhost:8080/"
        },
        "id": "Kc4M7x3BuzA3",
        "outputId": "902a21f9-1f49-4785-c020-5bfb0af01246"
      },
      "outputs": [],
      "source": [
        "!pip install catboost"
      ]
    },
    {
      "cell_type": "code",
      "execution_count": null,
      "metadata": {
        "colab": {
          "base_uri": "https://localhost:8080/"
        },
        "id": "1nFiKRXwLUx7",
        "outputId": "90d7e4f0-f9f4-4629-f0e7-898b0acf2665"
      },
      "outputs": [],
      "source": [
        "# Creating a catboost regression model.\n",
        "from catboost import CatBoostRegressor\n",
        "cat = CatBoostRegressor(iterations=10)\n",
        "cat.fit(X_train, y_train)"
      ]
    },
    {
      "cell_type": "markdown",
      "metadata": {
        "id": "pYNO-3NO_5HL"
      },
      "source": [
        "###Training accuracy"
      ]
    },
    {
      "cell_type": "code",
      "execution_count": null,
      "metadata": {
        "colab": {
          "base_uri": "https://localhost:8080/"
        },
        "id": "V1OcP5KkADat",
        "outputId": "3b068c51-cf1c-41f6-a32c-6ea58e3cb09e"
      },
      "outputs": [],
      "source": [
        "# Predicting the train data\n",
        "cat_train_predictions = cat.predict(X_train)\n",
        "# Evaluating the model.\n",
        "print(\"MAE for train set:\", mean_absolute_error(y_train, cat_train_predictions))\n",
        "print(\"MSE for train set:\", mean_squared_error(y_train, cat_train_predictions))\n",
        "print(\"RMSE for train set:\", np.sqrt(mean_squared_error(y_train, cat_train_predictions)))\n",
        "print(\"R2 Score for train set:\", r2_score(y_train, cat_train_predictions))"
      ]
    },
    {
      "cell_type": "markdown",
      "metadata": {
        "id": "EPjVVwOi_96T"
      },
      "source": [
        "### Testing Accuracy"
      ]
    },
    {
      "cell_type": "code",
      "execution_count": null,
      "metadata": {
        "colab": {
          "base_uri": "https://localhost:8080/"
        },
        "id": "m2Jk5Plv_9SY",
        "outputId": "93a14598-10e1-49d6-b384-070cb2d450e4"
      },
      "outputs": [],
      "source": [
        "# Predicting the test data\n",
        "cat_test_predictions = cat.predict(X_test)\n",
        "# Evaluating the model.\n",
        "print(\"MAE for test set:\", mean_absolute_error(y_test, cat_test_predictions))\n",
        "print(\"MSE for test set:\", mean_squared_error(y_test, cat_test_predictions))\n",
        "print(\"RMSE for test set:\", np.sqrt(mean_squared_error(y_test, cat_test_predictions)))\n",
        "print(\"R2 Score for test set:\", r2_score(y_test, cat_test_predictions))"
      ]
    },
    {
      "cell_type": "markdown",
      "metadata": {
        "id": "nleKjCM3WJD7"
      },
      "source": [
        "# ***Hyperparameter tuning***"
      ]
    },
    {
      "cell_type": "markdown",
      "metadata": {
        "id": "ZCWxScxnjO9M"
      },
      "source": [
        "**Performing bayesian-optimization Cross Validation on Cat Boost Regressor**"
      ]
    },
    {
      "cell_type": "code",
      "execution_count": null,
      "metadata": {
        "id": "7EfN_EW1kZ2P"
      },
      "outputs": [],
      "source": [
        "# Defining the objective function.\n",
        "def cat_cv_r2(learning_rate, depth, l2_leaf_reg, random_strength, bagging_temperature, border_count):\n",
        "    estimator = CatBoostRegressor(\n",
        "        learning_rate=learning_rate,\n",
        "        depth=int(depth),\n",
        "        l2_leaf_reg=l2_leaf_reg,\n",
        "        random_strength=random_strength,\n",
        "        bagging_temperature=bagging_temperature,\n",
        "        border_count=int(border_count),\n",
        "        random_state=42,\n",
        "        verbose=0\n",
        "    )\n",
        "    # Cross-validated R² score\n",
        "    cval = cross_val_score(estimator, X, y, scoring='r2', cv=5, error_score='raise')\n",
        "    return cval.mean()"
      ]
    },
    {
      "cell_type": "code",
      "execution_count": null,
      "metadata": {
        "id": "e-L1bvm5kfVw"
      },
      "outputs": [],
      "source": [
        "# Bounds for hyperparameters\n",
        "pbounds = {\n",
        "    'learning_rate': (0.01, 1),\n",
        "    'depth': (1, 16),\n",
        "    'l2_leaf_reg': (0.01, 10),\n",
        "    'random_strength': (0.01, 10),\n",
        "    'bagging_temperature': (0.01, 10),\n",
        "    'border_count': (1, 20)\n",
        "}"
      ]
    },
    {
      "cell_type": "code",
      "execution_count": null,
      "metadata": {
        "colab": {
          "base_uri": "https://localhost:8080/"
        },
        "id": "xCnN7vQdkieC",
        "outputId": "e86e72aa-3758-4b55-de36-3fcd130cdb18"
      },
      "outputs": [],
      "source": [
        "# ***Bayesian Optimization***\n",
        "optimizer = BayesianOptimization(\n",
        "    f=cat_cv_r2,\n",
        "    pbounds=pbounds,\n",
        "    random_state=42,\n",
        "    verbose=2\n",
        ")\n",
        "optimizer.maximize(\n",
        "    init_points=10,  # Number of random initial points\n",
        "    n_iter=50       # Number of iterations to run\n",
        ")"
      ]
    },
    {
      "cell_type": "code",
      "execution_count": null,
      "metadata": {
        "colab": {
          "base_uri": "https://localhost:8080/"
        },
        "id": "RhAgn0gXkmKH",
        "outputId": "c32f9ea8-57e3-4797-b447-c190df0b9518"
      },
      "outputs": [],
      "source": [
        "# ***Optimal Parameters***\n",
        "best_params = optimizer.max['params']\n",
        "best_params['depth'] = int(best_params['depth'])\n",
        "best_params['border_count'] = int(best_params['border_count'])\n",
        "print(best_params)"
      ]
    },
    {
      "cell_type": "markdown",
      "metadata": {
        "id": "YxT-4nLnkpJn"
      },
      "source": [
        "### Training Accuracy"
      ]
    },
    {
      "cell_type": "code",
      "execution_count": null,
      "metadata": {
        "colab": {
          "base_uri": "https://localhost:8080/"
        },
        "id": "-x1jR02akvcS",
        "outputId": "acfd82e5-d4e3-4895-ed81-f81a1beef867"
      },
      "outputs": [],
      "source": [
        "# check accuracy on the train data\n",
        "\n",
        "# Create a new model with the best parameters\n",
        "best_model = CatBoostRegressor(**best_params)\n",
        "\n",
        "# Train the model on the training data\n",
        "best_model.fit(X_train, y_train)\n",
        "\n",
        "# Evaluate the model on the train data\n",
        "bayes_opt_cat_train_predictions = best_model.predict(X_train)\n",
        "\n",
        "# Calculate the accuracy metrics\n",
        "mae = mean_absolute_error(y_train, bayes_opt_cat_train_predictions)\n",
        "mse = mean_squared_error(y_train, bayes_opt_cat_train_predictions)\n",
        "rmse = np.sqrt(mse)\n",
        "r2 = r2_score(y_train, bayes_opt_cat_train_predictions)\n",
        "\n",
        "# Print the accuracy metrics\n",
        "print(\"MAE for train set:\", mae)\n",
        "print(\"MSE for train set:\", mse)\n",
        "print(\"RMSE for train set:\", rmse)\n",
        "print(\"R2 for train set:\", r2)"
      ]
    },
    {
      "cell_type": "markdown",
      "metadata": {
        "id": "FRIS3a-tk0a_"
      },
      "source": [
        "### Testing Accuracy"
      ]
    },
    {
      "cell_type": "code",
      "execution_count": null,
      "metadata": {
        "colab": {
          "base_uri": "https://localhost:8080/"
        },
        "id": "_FN1TwoFk4Mn",
        "outputId": "ec6e694e-bc3e-4961-baef-95ccc0532eea"
      },
      "outputs": [],
      "source": [
        "# check accuracy on the test data\n",
        "\n",
        "# Evaluate the model on the test data\n",
        "bayes_opt_cat_test_predictions = best_model.predict(X_test)\n",
        "\n",
        "# Calculate the accuracy metrics\n",
        "mae = mean_absolute_error(y_test, bayes_opt_cat_test_predictions)\n",
        "mse = mean_squared_error(y_test, bayes_opt_cat_test_predictions)\n",
        "rmse = np.sqrt(mse)\n",
        "r2 = r2_score(y_test, bayes_opt_cat_test_predictions)\n",
        "\n",
        "# Print the accuracy metrics\n",
        "print(\"MAE for test set:\", mae)\n",
        "print(\"MSE for test set:\", mse)\n",
        "print(\"RMSE for test set:\", rmse)\n",
        "print(\"R2 for test set:\", r2)"
      ]
    },
    {
      "cell_type": "markdown",
      "metadata": {
        "id": "GYtgfaSBOQ2n"
      },
      "source": [
        "# ***Comparison***"
      ]
    },
    {
      "cell_type": "code",
      "execution_count": null,
      "metadata": {
        "colab": {
          "base_uri": "https://localhost:8080/",
          "height": 1000
        },
        "id": "SZsK1pLGpuGM",
        "outputId": "5bcc93aa-f399-4c8d-88bf-efa2d75e3b5a"
      },
      "outputs": [],
      "source": [
        "# Comparison of Training data\n",
        "\n",
        "import matplotlib.pyplot as plt\n",
        "# Scatterplot for Decision Tree Regressor\n",
        "plt.figure(figsize=(10, 6))\n",
        "plt.scatter(y_train, dt_train_predictions)\n",
        "plt.plot([y_train.min(), y_train.max()], [y_train.min(), y_train.max()], 'k--', lw=2)\n",
        "plt.xlabel('Actual Values')\n",
        "plt.ylabel('Predicted Values')\n",
        "plt.title('Decision Tree Regressor - Train Data')\n",
        "plt.show()\n",
        "\n",
        "# Scatterplot for Bayesian Optimization on Decision Tree Regressor\n",
        "plt.figure(figsize=(10, 6))\n",
        "plt.scatter(y_train, bayes_opt_dt_train_predictions)\n",
        "plt.plot([y_train.min(), y_train.max()], [y_train.min(), y_train.max()], 'k--', lw=2)\n",
        "plt.xlabel('Actual Values')\n",
        "plt.ylabel('Predicted Values')\n",
        "plt.title('Bayesian Optimization on Decision Tree Regressor - Train Data')\n",
        "plt.show()\n",
        "\n",
        "# Scatterplot for Gradient Boosting Regressor\n",
        "plt.figure(figsize=(10, 6))\n",
        "plt.scatter(y_train, gb_train_predictions)\n",
        "plt.plot([y_train.min(), y_train.max()], [y_train.min(), y_train.max()], 'k--', lw=2)\n",
        "plt.xlabel('Actual Values')\n",
        "plt.ylabel('Predicted Values')\n",
        "plt.title('Gradient Boosting Regressor - Train Data')\n",
        "plt.show()\n",
        "\n",
        "# Scatterplot for Bayesian Optimization on Gradient Boosting Regressor\n",
        "plt.figure(figsize=(10, 6))\n",
        "plt.scatter(y_train, bayes_opt_gb_train_predictions)\n",
        "plt.plot([y_train.min(), y_train.max()], [y_train.min(), y_train.max()], 'k--', lw=2)\n",
        "plt.xlabel('Actual Values')\n",
        "plt.ylabel('Predicted Values')\n",
        "plt.title('Bayesian Optimization on Gradient Boosting Regressor - Train Data')\n",
        "plt.show()\n",
        "\n",
        "# Scatterplot for Cat Boost Regressor\n",
        "plt.figure(figsize=(10, 6))\n",
        "plt.scatter(y_train, cat_train_predictions)\n",
        "plt.plot([y_train.min(), y_train.max()], [y_train.min(), y_train.max()], 'k--', lw=2)\n",
        "plt.xlabel('Actual Values')\n",
        "plt.ylabel('Predicted Values')\n",
        "plt.title('Cat Boost Regressor - Train Data')\n",
        "plt.show()\n",
        "\n",
        "# Scatterplot for Bayesian Optimization on Cat Boost Regressor\n",
        "plt.figure(figsize=(10, 6))\n",
        "plt.scatter(y_train, bayes_opt_cat_train_predictions)\n",
        "plt.plot([y_train.min(), y_train.max()], [y_train.min(), y_train.max()], 'k--', lw=2)\n",
        "plt.xlabel('Actual Values')\n",
        "plt.ylabel('Predicted Values')\n",
        "plt.title('Bayesian Optimization on Cat Boost Regressor - Train Data')\n",
        "plt.show()\n"
      ]
    },
    {
      "cell_type": "code",
      "execution_count": null,
      "metadata": {
        "colab": {
          "base_uri": "https://localhost:8080/",
          "height": 1000
        },
        "id": "CH4e1bY1r2vC",
        "outputId": "02394832-dceb-4231-f677-b2c06a0adf77"
      },
      "outputs": [],
      "source": [
        "# Comparison of testing data\n",
        "\n",
        "import matplotlib.pyplot as plt\n",
        "# Scatterplot for Decision Tree Regressor\n",
        "plt.figure(figsize=(10, 6))\n",
        "plt.scatter(y_test[:200], dt_test_predictions[:200])\n",
        "plt.plot([y_test.min(), y_test.max()], [y_test.min(), y_test.max()], 'k--', lw=2)\n",
        "plt.xlabel('Actual Values')\n",
        "plt.ylabel('Predicted Values')\n",
        "plt.title('Decision Tree Regressor - Test Data')\n",
        "plt.show()\n",
        "\n",
        "# Scatterplot for Bayesian Optimization on Decision Tree Regressor\n",
        "plt.figure(figsize=(10, 6))\n",
        "plt.scatter(y_test[:200], bayes_opt_dt_test_predictions[:200])\n",
        "plt.plot([y_test.min(), y_test.max()], [y_test.min(), y_test.max()], 'k--', lw=2)\n",
        "plt.xlabel('Actual Values')\n",
        "plt.ylabel('Predicted Values')\n",
        "plt.title('Bayesian Optimization on Decision Tree Regressor - Test Data')\n",
        "plt.show()\n",
        "\n",
        "# Scatterplot for Gradient Boosting Regressor\n",
        "plt.figure(figsize=(10, 6))\n",
        "plt.scatter(y_test[:200], gb_test_predictions[:200])\n",
        "plt.plot([y_test.min(), y_test.max()], [y_test.min(), y_test.max()], 'k--', lw=2)\n",
        "plt.xlabel('Actual Values')\n",
        "plt.ylabel('Predicted Values')\n",
        "plt.title('Gradient Boosting Regressor - Test Data')\n",
        "plt.show()\n",
        "\n",
        "# Scatterplot for Bayesian Optimization on Gradient Boosting Regressor\n",
        "plt.figure(figsize=(10, 6))\n",
        "plt.scatter(y_test[:200], bayes_opt_gb_test_predictions[:200])\n",
        "plt.plot([y_test.min(), y_test.max()], [y_test.min(), y_test.max()], 'k--', lw=2)\n",
        "plt.xlabel('Actual Values')\n",
        "plt.ylabel('Predicted Values')\n",
        "plt.title('Bayesian Optimization on Gradient Boosting Regressor - Test Data')\n",
        "plt.show()\n",
        "\n",
        "# Scatterplot for Cat Boost Regressor\n",
        "plt.figure(figsize=(10, 6))\n",
        "plt.scatter(y_test[:200], cat_test_predictions[:200])\n",
        "plt.plot([y_test.min(), y_test.max()], [y_test.min(), y_test.max()], 'k--', lw=2)\n",
        "plt.xlabel('Actual Values')\n",
        "plt.ylabel('Predicted Values')\n",
        "plt.title('Cat Boost Regressor - Test Data')\n",
        "plt.show()\n",
        "\n",
        "# Scatterplot for Bayesian Optimization on Cat Boost Regressor\n",
        "plt.figure(figsize=(10, 6))\n",
        "plt.scatter(y_test[:200], bayes_opt_cat_test_predictions[:200])\n",
        "plt.plot([y_test.min(), y_test.max()], [y_test.min(), y_test.max()], 'k--', lw=2)\n",
        "plt.xlabel('Actual Values')\n",
        "plt.ylabel('Predicted Values')\n",
        "plt.title('Bayesian Optimization on Cat Boost Regressor - Test Data')\n",
        "plt.show()\n"
      ]
    },
    {
      "cell_type": "code",
      "execution_count": null,
      "metadata": {
        "id": "wqCIs2_eJORA"
      },
      "outputs": [],
      "source": []
    }
  ],
  "metadata": {
    "colab": {
      "provenance": []
    },
    "kernelspec": {
      "display_name": "Python 3",
      "name": "python3"
    },
    "language_info": {
      "name": "python"
    }
  },
  "nbformat": 4,
  "nbformat_minor": 0
}
